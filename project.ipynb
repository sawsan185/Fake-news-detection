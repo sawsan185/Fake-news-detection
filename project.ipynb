{
  "nbformat": 4,
  "nbformat_minor": 0,
  "metadata": {
    "colab": {
      "provenance": []
    },
    "kernelspec": {
      "name": "python3",
      "display_name": "Python 3"
    }
  },
  "cells": [
    {
      "cell_type": "markdown",
      "source": [
        "\n",
        "**1.   Importing the Dependencies**\n",
        "\n",
        "\n",
        "\n",
        "\n",
        "\n"
      ],
      "metadata": {
        "id": "sRjXyU38wJqW"
      }
    },
    {
      "cell_type": "code",
      "metadata": {
        "id": "-fetC5yqkPVe",
        "colab": {
          "base_uri": "https://localhost:8080/"
        },
        "outputId": "13471193-8079-449c-da24-d43c1e270eb1"
      },
      "source": [
        "import numpy as np\n",
        "import pandas as pd\n",
        "import matplotlib.pyplot as plt\n",
        "import re\n",
        "from nltk.corpus import stopwords\n",
        "from nltk.stem.porter import PorterStemmer\n",
        "from sklearn.feature_extraction.text import TfidfVectorizer\n",
        "from sklearn.model_selection import train_test_split\n",
        "from sklearn.linear_model import LogisticRegression\n",
        "from sklearn.metrics import accuracy_score\n",
        "from sklearn.metrics import confusion_matrix\n",
        "import seaborn as sns\n",
        "!pip install pygal\n",
        "import pygal\n",
        "import nltk\n",
        "\n",
        "nltk.download('stopwords')"
      ],
      "execution_count": 124,
      "outputs": [
        {
          "output_type": "stream",
          "name": "stdout",
          "text": [
            "Looking in indexes: https://pypi.org/simple, https://us-python.pkg.dev/colab-wheels/public/simple/\n",
            "Collecting pygal\n",
            "  Downloading pygal-3.0.0-py2.py3-none-any.whl (129 kB)\n",
            "\u001b[K     |████████████████████████████████| 129 kB 14.9 MB/s \n",
            "\u001b[?25hInstalling collected packages: pygal\n",
            "Successfully installed pygal-3.0.0\n"
          ]
        },
        {
          "output_type": "stream",
          "name": "stderr",
          "text": [
            "[nltk_data] Downloading package stopwords to /root/nltk_data...\n",
            "[nltk_data]   Package stopwords is already up-to-date!\n"
          ]
        },
        {
          "output_type": "execute_result",
          "data": {
            "text/plain": [
              "True"
            ]
          },
          "metadata": {},
          "execution_count": 124
        }
      ]
    },
    {
      "cell_type": "code",
      "metadata": {
        "id": "nCGcpu_1wzLw"
      },
      "source": [
        "# loading the dataset to a pandas DataFrame\n",
        "news_dataset = pd.read_csv('train.csv')"
      ],
      "execution_count": 86,
      "outputs": []
    },
    {
      "cell_type": "code",
      "metadata": {
        "colab": {
          "base_uri": "https://localhost:8080/"
        },
        "id": "aRgmbYSbxV4-",
        "outputId": "7233957d-64dc-4ace-f22b-40bbdc187a9e"
      },
      "source": [
        "news_dataset.shape"
      ],
      "execution_count": 87,
      "outputs": [
        {
          "output_type": "execute_result",
          "data": {
            "text/plain": [
              "(20800, 5)"
            ]
          },
          "metadata": {},
          "execution_count": 87
        }
      ]
    },
    {
      "cell_type": "code",
      "metadata": {
        "colab": {
          "base_uri": "https://localhost:8080/",
          "height": 206
        },
        "id": "jjJ1eB6RxZaS",
        "outputId": "e128510b-8960-4ccf-8da6-10d1425802ca"
      },
      "source": [
        "# print the first 5 rows of the dataframe\n",
        "news_dataset.head()"
      ],
      "execution_count": 88,
      "outputs": [
        {
          "output_type": "execute_result",
          "data": {
            "text/plain": [
              "   id                                              title              author  \\\n",
              "0   0  House Dem Aide: We Didn’t Even See Comey’s Let...       Darrell Lucus   \n",
              "1   1  FLYNN: Hillary Clinton, Big Woman on Campus - ...     Daniel J. Flynn   \n",
              "2   2                  Why the Truth Might Get You Fired  Consortiumnews.com   \n",
              "3   3  15 Civilians Killed In Single US Airstrike Hav...     Jessica Purkiss   \n",
              "4   4  Iranian woman jailed for fictional unpublished...      Howard Portnoy   \n",
              "\n",
              "                                                text  label  \n",
              "0  House Dem Aide: We Didn’t Even See Comey’s Let...      1  \n",
              "1  Ever get the feeling your life circles the rou...      0  \n",
              "2  Why the Truth Might Get You Fired October 29, ...      1  \n",
              "3  Videos 15 Civilians Killed In Single US Airstr...      1  \n",
              "4  Print \\nAn Iranian woman has been sentenced to...      1  "
            ],
            "text/html": [
              "\n",
              "  <div id=\"df-4b0af065-f913-453c-b167-c4c36aefced6\">\n",
              "    <div class=\"colab-df-container\">\n",
              "      <div>\n",
              "<style scoped>\n",
              "    .dataframe tbody tr th:only-of-type {\n",
              "        vertical-align: middle;\n",
              "    }\n",
              "\n",
              "    .dataframe tbody tr th {\n",
              "        vertical-align: top;\n",
              "    }\n",
              "\n",
              "    .dataframe thead th {\n",
              "        text-align: right;\n",
              "    }\n",
              "</style>\n",
              "<table border=\"1\" class=\"dataframe\">\n",
              "  <thead>\n",
              "    <tr style=\"text-align: right;\">\n",
              "      <th></th>\n",
              "      <th>id</th>\n",
              "      <th>title</th>\n",
              "      <th>author</th>\n",
              "      <th>text</th>\n",
              "      <th>label</th>\n",
              "    </tr>\n",
              "  </thead>\n",
              "  <tbody>\n",
              "    <tr>\n",
              "      <th>0</th>\n",
              "      <td>0</td>\n",
              "      <td>House Dem Aide: We Didn’t Even See Comey’s Let...</td>\n",
              "      <td>Darrell Lucus</td>\n",
              "      <td>House Dem Aide: We Didn’t Even See Comey’s Let...</td>\n",
              "      <td>1</td>\n",
              "    </tr>\n",
              "    <tr>\n",
              "      <th>1</th>\n",
              "      <td>1</td>\n",
              "      <td>FLYNN: Hillary Clinton, Big Woman on Campus - ...</td>\n",
              "      <td>Daniel J. Flynn</td>\n",
              "      <td>Ever get the feeling your life circles the rou...</td>\n",
              "      <td>0</td>\n",
              "    </tr>\n",
              "    <tr>\n",
              "      <th>2</th>\n",
              "      <td>2</td>\n",
              "      <td>Why the Truth Might Get You Fired</td>\n",
              "      <td>Consortiumnews.com</td>\n",
              "      <td>Why the Truth Might Get You Fired October 29, ...</td>\n",
              "      <td>1</td>\n",
              "    </tr>\n",
              "    <tr>\n",
              "      <th>3</th>\n",
              "      <td>3</td>\n",
              "      <td>15 Civilians Killed In Single US Airstrike Hav...</td>\n",
              "      <td>Jessica Purkiss</td>\n",
              "      <td>Videos 15 Civilians Killed In Single US Airstr...</td>\n",
              "      <td>1</td>\n",
              "    </tr>\n",
              "    <tr>\n",
              "      <th>4</th>\n",
              "      <td>4</td>\n",
              "      <td>Iranian woman jailed for fictional unpublished...</td>\n",
              "      <td>Howard Portnoy</td>\n",
              "      <td>Print \\nAn Iranian woman has been sentenced to...</td>\n",
              "      <td>1</td>\n",
              "    </tr>\n",
              "  </tbody>\n",
              "</table>\n",
              "</div>\n",
              "      <button class=\"colab-df-convert\" onclick=\"convertToInteractive('df-4b0af065-f913-453c-b167-c4c36aefced6')\"\n",
              "              title=\"Convert this dataframe to an interactive table.\"\n",
              "              style=\"display:none;\">\n",
              "        \n",
              "  <svg xmlns=\"http://www.w3.org/2000/svg\" height=\"24px\"viewBox=\"0 0 24 24\"\n",
              "       width=\"24px\">\n",
              "    <path d=\"M0 0h24v24H0V0z\" fill=\"none\"/>\n",
              "    <path d=\"M18.56 5.44l.94 2.06.94-2.06 2.06-.94-2.06-.94-.94-2.06-.94 2.06-2.06.94zm-11 1L8.5 8.5l.94-2.06 2.06-.94-2.06-.94L8.5 2.5l-.94 2.06-2.06.94zm10 10l.94 2.06.94-2.06 2.06-.94-2.06-.94-.94-2.06-.94 2.06-2.06.94z\"/><path d=\"M17.41 7.96l-1.37-1.37c-.4-.4-.92-.59-1.43-.59-.52 0-1.04.2-1.43.59L10.3 9.45l-7.72 7.72c-.78.78-.78 2.05 0 2.83L4 21.41c.39.39.9.59 1.41.59.51 0 1.02-.2 1.41-.59l7.78-7.78 2.81-2.81c.8-.78.8-2.07 0-2.86zM5.41 20L4 18.59l7.72-7.72 1.47 1.35L5.41 20z\"/>\n",
              "  </svg>\n",
              "      </button>\n",
              "      \n",
              "  <style>\n",
              "    .colab-df-container {\n",
              "      display:flex;\n",
              "      flex-wrap:wrap;\n",
              "      gap: 12px;\n",
              "    }\n",
              "\n",
              "    .colab-df-convert {\n",
              "      background-color: #E8F0FE;\n",
              "      border: none;\n",
              "      border-radius: 50%;\n",
              "      cursor: pointer;\n",
              "      display: none;\n",
              "      fill: #1967D2;\n",
              "      height: 32px;\n",
              "      padding: 0 0 0 0;\n",
              "      width: 32px;\n",
              "    }\n",
              "\n",
              "    .colab-df-convert:hover {\n",
              "      background-color: #E2EBFA;\n",
              "      box-shadow: 0px 1px 2px rgba(60, 64, 67, 0.3), 0px 1px 3px 1px rgba(60, 64, 67, 0.15);\n",
              "      fill: #174EA6;\n",
              "    }\n",
              "\n",
              "    [theme=dark] .colab-df-convert {\n",
              "      background-color: #3B4455;\n",
              "      fill: #D2E3FC;\n",
              "    }\n",
              "\n",
              "    [theme=dark] .colab-df-convert:hover {\n",
              "      background-color: #434B5C;\n",
              "      box-shadow: 0px 1px 3px 1px rgba(0, 0, 0, 0.15);\n",
              "      filter: drop-shadow(0px 1px 2px rgba(0, 0, 0, 0.3));\n",
              "      fill: #FFFFFF;\n",
              "    }\n",
              "  </style>\n",
              "\n",
              "      <script>\n",
              "        const buttonEl =\n",
              "          document.querySelector('#df-4b0af065-f913-453c-b167-c4c36aefced6 button.colab-df-convert');\n",
              "        buttonEl.style.display =\n",
              "          google.colab.kernel.accessAllowed ? 'block' : 'none';\n",
              "\n",
              "        async function convertToInteractive(key) {\n",
              "          const element = document.querySelector('#df-4b0af065-f913-453c-b167-c4c36aefced6');\n",
              "          const dataTable =\n",
              "            await google.colab.kernel.invokeFunction('convertToInteractive',\n",
              "                                                     [key], {});\n",
              "          if (!dataTable) return;\n",
              "\n",
              "          const docLinkHtml = 'Like what you see? Visit the ' +\n",
              "            '<a target=\"_blank\" href=https://colab.research.google.com/notebooks/data_table.ipynb>data table notebook</a>'\n",
              "            + ' to learn more about interactive tables.';\n",
              "          element.innerHTML = '';\n",
              "          dataTable['output_type'] = 'display_data';\n",
              "          await google.colab.output.renderOutput(dataTable, element);\n",
              "          const docLink = document.createElement('div');\n",
              "          docLink.innerHTML = docLinkHtml;\n",
              "          element.appendChild(docLink);\n",
              "        }\n",
              "      </script>\n",
              "    </div>\n",
              "  </div>\n",
              "  "
            ]
          },
          "metadata": {},
          "execution_count": 88
        }
      ]
    },
    {
      "cell_type": "code",
      "source": [
        "# Describe the dataset\n",
        "print(news_dataset.describe())"
      ],
      "metadata": {
        "id": "am7pz89W2Gw_",
        "colab": {
          "base_uri": "https://localhost:8080/"
        },
        "outputId": "cf589453-165a-403f-e382-df0dad1b77fc"
      },
      "execution_count": 89,
      "outputs": [
        {
          "output_type": "stream",
          "name": "stdout",
          "text": [
            "                 id         label\n",
            "count  20800.000000  20800.000000\n",
            "mean   10399.500000      0.500625\n",
            "std     6004.587135      0.500012\n",
            "min        0.000000      0.000000\n",
            "25%     5199.750000      0.000000\n",
            "50%    10399.500000      1.000000\n",
            "75%    15599.250000      1.000000\n",
            "max    20799.000000      1.000000\n"
          ]
        }
      ]
    },
    {
      "cell_type": "markdown",
      "metadata": {
        "id": "FaIBmnXCknPl"
      },
      "source": [
        "Dataset description:\n",
        "\n",
        "1. id: unique id for a news article\n",
        "2. title: the title of a news article\n",
        "3. author: author of the news article\n",
        "4. text: the text of the article; could be incomplete\n",
        "5. label: a label that marks whether the news article is real or fake:\n",
        "           1: Fake news\n",
        "           0: real News\n",
        "\n",
        "\n",
        "\n"
      ]
    },
    {
      "cell_type": "markdown",
      "source": [
        "\n",
        "**2.   Data cleaning**\n",
        "\n"
      ],
      "metadata": {
        "id": "qGf6lWDB3CYL"
      }
    },
    {
      "cell_type": "code",
      "source": [
        "# Drop duplicates\n",
        "display(news_dataset.drop_duplicates())\n"
      ],
      "metadata": {
        "id": "c2Wfqk-D25ot",
        "colab": {
          "base_uri": "https://localhost:8080/",
          "height": 424
        },
        "outputId": "a6883c47-1de9-450c-9e73-c4bfe01bb442"
      },
      "execution_count": 90,
      "outputs": [
        {
          "output_type": "display_data",
          "data": {
            "text/plain": [
              "          id                                              title  \\\n",
              "0          0  House Dem Aide: We Didn’t Even See Comey’s Let...   \n",
              "1          1  FLYNN: Hillary Clinton, Big Woman on Campus - ...   \n",
              "2          2                  Why the Truth Might Get You Fired   \n",
              "3          3  15 Civilians Killed In Single US Airstrike Hav...   \n",
              "4          4  Iranian woman jailed for fictional unpublished...   \n",
              "...      ...                                                ...   \n",
              "20795  20795  Rapper T.I.: Trump a ’Poster Child For White S...   \n",
              "20796  20796  N.F.L. Playoffs: Schedule, Matchups and Odds -...   \n",
              "20797  20797  Macy’s Is Said to Receive Takeover Approach by...   \n",
              "20798  20798  NATO, Russia To Hold Parallel Exercises In Bal...   \n",
              "20799  20799                          What Keeps the F-35 Alive   \n",
              "\n",
              "                                          author  \\\n",
              "0                                  Darrell Lucus   \n",
              "1                                Daniel J. Flynn   \n",
              "2                             Consortiumnews.com   \n",
              "3                                Jessica Purkiss   \n",
              "4                                 Howard Portnoy   \n",
              "...                                          ...   \n",
              "20795                              Jerome Hudson   \n",
              "20796                           Benjamin Hoffman   \n",
              "20797  Michael J. de la Merced and Rachel Abrams   \n",
              "20798                                Alex Ansary   \n",
              "20799                              David Swanson   \n",
              "\n",
              "                                                    text  label  \n",
              "0      House Dem Aide: We Didn’t Even See Comey’s Let...      1  \n",
              "1      Ever get the feeling your life circles the rou...      0  \n",
              "2      Why the Truth Might Get You Fired October 29, ...      1  \n",
              "3      Videos 15 Civilians Killed In Single US Airstr...      1  \n",
              "4      Print \\nAn Iranian woman has been sentenced to...      1  \n",
              "...                                                  ...    ...  \n",
              "20795  Rapper T. I. unloaded on black celebrities who...      0  \n",
              "20796  When the Green Bay Packers lost to the Washing...      0  \n",
              "20797  The Macy’s of today grew from the union of sev...      0  \n",
              "20798  NATO, Russia To Hold Parallel Exercises In Bal...      1  \n",
              "20799    David Swanson is an author, activist, journa...      1  \n",
              "\n",
              "[20800 rows x 5 columns]"
            ],
            "text/html": [
              "\n",
              "  <div id=\"df-7292f95a-384e-4257-b6dd-d62ec5c4cbd8\">\n",
              "    <div class=\"colab-df-container\">\n",
              "      <div>\n",
              "<style scoped>\n",
              "    .dataframe tbody tr th:only-of-type {\n",
              "        vertical-align: middle;\n",
              "    }\n",
              "\n",
              "    .dataframe tbody tr th {\n",
              "        vertical-align: top;\n",
              "    }\n",
              "\n",
              "    .dataframe thead th {\n",
              "        text-align: right;\n",
              "    }\n",
              "</style>\n",
              "<table border=\"1\" class=\"dataframe\">\n",
              "  <thead>\n",
              "    <tr style=\"text-align: right;\">\n",
              "      <th></th>\n",
              "      <th>id</th>\n",
              "      <th>title</th>\n",
              "      <th>author</th>\n",
              "      <th>text</th>\n",
              "      <th>label</th>\n",
              "    </tr>\n",
              "  </thead>\n",
              "  <tbody>\n",
              "    <tr>\n",
              "      <th>0</th>\n",
              "      <td>0</td>\n",
              "      <td>House Dem Aide: We Didn’t Even See Comey’s Let...</td>\n",
              "      <td>Darrell Lucus</td>\n",
              "      <td>House Dem Aide: We Didn’t Even See Comey’s Let...</td>\n",
              "      <td>1</td>\n",
              "    </tr>\n",
              "    <tr>\n",
              "      <th>1</th>\n",
              "      <td>1</td>\n",
              "      <td>FLYNN: Hillary Clinton, Big Woman on Campus - ...</td>\n",
              "      <td>Daniel J. Flynn</td>\n",
              "      <td>Ever get the feeling your life circles the rou...</td>\n",
              "      <td>0</td>\n",
              "    </tr>\n",
              "    <tr>\n",
              "      <th>2</th>\n",
              "      <td>2</td>\n",
              "      <td>Why the Truth Might Get You Fired</td>\n",
              "      <td>Consortiumnews.com</td>\n",
              "      <td>Why the Truth Might Get You Fired October 29, ...</td>\n",
              "      <td>1</td>\n",
              "    </tr>\n",
              "    <tr>\n",
              "      <th>3</th>\n",
              "      <td>3</td>\n",
              "      <td>15 Civilians Killed In Single US Airstrike Hav...</td>\n",
              "      <td>Jessica Purkiss</td>\n",
              "      <td>Videos 15 Civilians Killed In Single US Airstr...</td>\n",
              "      <td>1</td>\n",
              "    </tr>\n",
              "    <tr>\n",
              "      <th>4</th>\n",
              "      <td>4</td>\n",
              "      <td>Iranian woman jailed for fictional unpublished...</td>\n",
              "      <td>Howard Portnoy</td>\n",
              "      <td>Print \\nAn Iranian woman has been sentenced to...</td>\n",
              "      <td>1</td>\n",
              "    </tr>\n",
              "    <tr>\n",
              "      <th>...</th>\n",
              "      <td>...</td>\n",
              "      <td>...</td>\n",
              "      <td>...</td>\n",
              "      <td>...</td>\n",
              "      <td>...</td>\n",
              "    </tr>\n",
              "    <tr>\n",
              "      <th>20795</th>\n",
              "      <td>20795</td>\n",
              "      <td>Rapper T.I.: Trump a ’Poster Child For White S...</td>\n",
              "      <td>Jerome Hudson</td>\n",
              "      <td>Rapper T. I. unloaded on black celebrities who...</td>\n",
              "      <td>0</td>\n",
              "    </tr>\n",
              "    <tr>\n",
              "      <th>20796</th>\n",
              "      <td>20796</td>\n",
              "      <td>N.F.L. Playoffs: Schedule, Matchups and Odds -...</td>\n",
              "      <td>Benjamin Hoffman</td>\n",
              "      <td>When the Green Bay Packers lost to the Washing...</td>\n",
              "      <td>0</td>\n",
              "    </tr>\n",
              "    <tr>\n",
              "      <th>20797</th>\n",
              "      <td>20797</td>\n",
              "      <td>Macy’s Is Said to Receive Takeover Approach by...</td>\n",
              "      <td>Michael J. de la Merced and Rachel Abrams</td>\n",
              "      <td>The Macy’s of today grew from the union of sev...</td>\n",
              "      <td>0</td>\n",
              "    </tr>\n",
              "    <tr>\n",
              "      <th>20798</th>\n",
              "      <td>20798</td>\n",
              "      <td>NATO, Russia To Hold Parallel Exercises In Bal...</td>\n",
              "      <td>Alex Ansary</td>\n",
              "      <td>NATO, Russia To Hold Parallel Exercises In Bal...</td>\n",
              "      <td>1</td>\n",
              "    </tr>\n",
              "    <tr>\n",
              "      <th>20799</th>\n",
              "      <td>20799</td>\n",
              "      <td>What Keeps the F-35 Alive</td>\n",
              "      <td>David Swanson</td>\n",
              "      <td>David Swanson is an author, activist, journa...</td>\n",
              "      <td>1</td>\n",
              "    </tr>\n",
              "  </tbody>\n",
              "</table>\n",
              "<p>20800 rows × 5 columns</p>\n",
              "</div>\n",
              "      <button class=\"colab-df-convert\" onclick=\"convertToInteractive('df-7292f95a-384e-4257-b6dd-d62ec5c4cbd8')\"\n",
              "              title=\"Convert this dataframe to an interactive table.\"\n",
              "              style=\"display:none;\">\n",
              "        \n",
              "  <svg xmlns=\"http://www.w3.org/2000/svg\" height=\"24px\"viewBox=\"0 0 24 24\"\n",
              "       width=\"24px\">\n",
              "    <path d=\"M0 0h24v24H0V0z\" fill=\"none\"/>\n",
              "    <path d=\"M18.56 5.44l.94 2.06.94-2.06 2.06-.94-2.06-.94-.94-2.06-.94 2.06-2.06.94zm-11 1L8.5 8.5l.94-2.06 2.06-.94-2.06-.94L8.5 2.5l-.94 2.06-2.06.94zm10 10l.94 2.06.94-2.06 2.06-.94-2.06-.94-.94-2.06-.94 2.06-2.06.94z\"/><path d=\"M17.41 7.96l-1.37-1.37c-.4-.4-.92-.59-1.43-.59-.52 0-1.04.2-1.43.59L10.3 9.45l-7.72 7.72c-.78.78-.78 2.05 0 2.83L4 21.41c.39.39.9.59 1.41.59.51 0 1.02-.2 1.41-.59l7.78-7.78 2.81-2.81c.8-.78.8-2.07 0-2.86zM5.41 20L4 18.59l7.72-7.72 1.47 1.35L5.41 20z\"/>\n",
              "  </svg>\n",
              "      </button>\n",
              "      \n",
              "  <style>\n",
              "    .colab-df-container {\n",
              "      display:flex;\n",
              "      flex-wrap:wrap;\n",
              "      gap: 12px;\n",
              "    }\n",
              "\n",
              "    .colab-df-convert {\n",
              "      background-color: #E8F0FE;\n",
              "      border: none;\n",
              "      border-radius: 50%;\n",
              "      cursor: pointer;\n",
              "      display: none;\n",
              "      fill: #1967D2;\n",
              "      height: 32px;\n",
              "      padding: 0 0 0 0;\n",
              "      width: 32px;\n",
              "    }\n",
              "\n",
              "    .colab-df-convert:hover {\n",
              "      background-color: #E2EBFA;\n",
              "      box-shadow: 0px 1px 2px rgba(60, 64, 67, 0.3), 0px 1px 3px 1px rgba(60, 64, 67, 0.15);\n",
              "      fill: #174EA6;\n",
              "    }\n",
              "\n",
              "    [theme=dark] .colab-df-convert {\n",
              "      background-color: #3B4455;\n",
              "      fill: #D2E3FC;\n",
              "    }\n",
              "\n",
              "    [theme=dark] .colab-df-convert:hover {\n",
              "      background-color: #434B5C;\n",
              "      box-shadow: 0px 1px 3px 1px rgba(0, 0, 0, 0.15);\n",
              "      filter: drop-shadow(0px 1px 2px rgba(0, 0, 0, 0.3));\n",
              "      fill: #FFFFFF;\n",
              "    }\n",
              "  </style>\n",
              "\n",
              "      <script>\n",
              "        const buttonEl =\n",
              "          document.querySelector('#df-7292f95a-384e-4257-b6dd-d62ec5c4cbd8 button.colab-df-convert');\n",
              "        buttonEl.style.display =\n",
              "          google.colab.kernel.accessAllowed ? 'block' : 'none';\n",
              "\n",
              "        async function convertToInteractive(key) {\n",
              "          const element = document.querySelector('#df-7292f95a-384e-4257-b6dd-d62ec5c4cbd8');\n",
              "          const dataTable =\n",
              "            await google.colab.kernel.invokeFunction('convertToInteractive',\n",
              "                                                     [key], {});\n",
              "          if (!dataTable) return;\n",
              "\n",
              "          const docLinkHtml = 'Like what you see? Visit the ' +\n",
              "            '<a target=\"_blank\" href=https://colab.research.google.com/notebooks/data_table.ipynb>data table notebook</a>'\n",
              "            + ' to learn more about interactive tables.';\n",
              "          element.innerHTML = '';\n",
              "          dataTable['output_type'] = 'display_data';\n",
              "          await google.colab.output.renderOutput(dataTable, element);\n",
              "          const docLink = document.createElement('div');\n",
              "          docLink.innerHTML = docLinkHtml;\n",
              "          element.appendChild(docLink);\n",
              "        }\n",
              "      </script>\n",
              "    </div>\n",
              "  </div>\n",
              "  "
            ]
          },
          "metadata": {}
        }
      ]
    },
    {
      "cell_type": "code",
      "metadata": {
        "colab": {
          "base_uri": "https://localhost:8080/"
        },
        "outputId": "87d0aeeb-c566-41f1-cb9a-ba6af2249a57",
        "id": "s5ufphoY8bpU"
      },
      "source": [
        "# counting the number of missing values in the dataset\n",
        "news_dataset.isnull().sum()"
      ],
      "execution_count": 91,
      "outputs": [
        {
          "output_type": "execute_result",
          "data": {
            "text/plain": [
              "id           0\n",
              "title      558\n",
              "author    1957\n",
              "text        39\n",
              "label        0\n",
              "dtype: int64"
            ]
          },
          "metadata": {},
          "execution_count": 91
        }
      ]
    },
    {
      "cell_type": "code",
      "metadata": {
        "id": "1tW2Py-Q8n7U"
      },
      "source": [
        "# replacing the null values with empty string\n",
        "news_dataset = news_dataset.fillna('')"
      ],
      "execution_count": 92,
      "outputs": []
    },
    {
      "cell_type": "code",
      "metadata": {
        "id": "Wy9ezQHe8uwN"
      },
      "source": [
        "# merging the author name and news title\n",
        "news_dataset['content'] = news_dataset['author']+' '+news_dataset['title']"
      ],
      "execution_count": 93,
      "outputs": []
    },
    {
      "cell_type": "code",
      "metadata": {
        "id": "YTpJ_ihR9JnI"
      },
      "source": [
        "# separating the data & label\n",
        "X = news_dataset.drop(columns='label', axis=1)\n",
        "Y = news_dataset['label']"
      ],
      "execution_count": 94,
      "outputs": []
    },
    {
      "cell_type": "code",
      "metadata": {
        "colab": {
          "base_uri": "https://localhost:8080/"
        },
        "outputId": "95a92f7a-dd6e-429d-aeac-65687fec8628",
        "id": "vxnZixcn9Nyz"
      },
      "source": [
        "print(X)\n",
        "print(Y)"
      ],
      "execution_count": 95,
      "outputs": [
        {
          "output_type": "stream",
          "name": "stdout",
          "text": [
            "          id                                              title  \\\n",
            "0          0  House Dem Aide: We Didn’t Even See Comey’s Let...   \n",
            "1          1  FLYNN: Hillary Clinton, Big Woman on Campus - ...   \n",
            "2          2                  Why the Truth Might Get You Fired   \n",
            "3          3  15 Civilians Killed In Single US Airstrike Hav...   \n",
            "4          4  Iranian woman jailed for fictional unpublished...   \n",
            "...      ...                                                ...   \n",
            "20795  20795  Rapper T.I.: Trump a ’Poster Child For White S...   \n",
            "20796  20796  N.F.L. Playoffs: Schedule, Matchups and Odds -...   \n",
            "20797  20797  Macy’s Is Said to Receive Takeover Approach by...   \n",
            "20798  20798  NATO, Russia To Hold Parallel Exercises In Bal...   \n",
            "20799  20799                          What Keeps the F-35 Alive   \n",
            "\n",
            "                                          author  \\\n",
            "0                                  Darrell Lucus   \n",
            "1                                Daniel J. Flynn   \n",
            "2                             Consortiumnews.com   \n",
            "3                                Jessica Purkiss   \n",
            "4                                 Howard Portnoy   \n",
            "...                                          ...   \n",
            "20795                              Jerome Hudson   \n",
            "20796                           Benjamin Hoffman   \n",
            "20797  Michael J. de la Merced and Rachel Abrams   \n",
            "20798                                Alex Ansary   \n",
            "20799                              David Swanson   \n",
            "\n",
            "                                                    text  \\\n",
            "0      House Dem Aide: We Didn’t Even See Comey’s Let...   \n",
            "1      Ever get the feeling your life circles the rou...   \n",
            "2      Why the Truth Might Get You Fired October 29, ...   \n",
            "3      Videos 15 Civilians Killed In Single US Airstr...   \n",
            "4      Print \\nAn Iranian woman has been sentenced to...   \n",
            "...                                                  ...   \n",
            "20795  Rapper T. I. unloaded on black celebrities who...   \n",
            "20796  When the Green Bay Packers lost to the Washing...   \n",
            "20797  The Macy’s of today grew from the union of sev...   \n",
            "20798  NATO, Russia To Hold Parallel Exercises In Bal...   \n",
            "20799    David Swanson is an author, activist, journa...   \n",
            "\n",
            "                                                 content  \n",
            "0      Darrell Lucus House Dem Aide: We Didn’t Even S...  \n",
            "1      Daniel J. Flynn FLYNN: Hillary Clinton, Big Wo...  \n",
            "2      Consortiumnews.com Why the Truth Might Get You...  \n",
            "3      Jessica Purkiss 15 Civilians Killed In Single ...  \n",
            "4      Howard Portnoy Iranian woman jailed for fictio...  \n",
            "...                                                  ...  \n",
            "20795  Jerome Hudson Rapper T.I.: Trump a ’Poster Chi...  \n",
            "20796  Benjamin Hoffman N.F.L. Playoffs: Schedule, Ma...  \n",
            "20797  Michael J. de la Merced and Rachel Abrams Macy...  \n",
            "20798  Alex Ansary NATO, Russia To Hold Parallel Exer...  \n",
            "20799            David Swanson What Keeps the F-35 Alive  \n",
            "\n",
            "[20800 rows x 5 columns]\n",
            "0        1\n",
            "1        0\n",
            "2        1\n",
            "3        1\n",
            "4        1\n",
            "        ..\n",
            "20795    0\n",
            "20796    0\n",
            "20797    0\n",
            "20798    1\n",
            "20799    1\n",
            "Name: label, Length: 20800, dtype: int64\n"
          ]
        }
      ]
    },
    {
      "cell_type": "code",
      "metadata": {
        "id": "_c2fBpUH9pBH"
      },
      "source": [
        "# Reducing a word to its Root word\n",
        "port_stem = PorterStemmer()"
      ],
      "execution_count": 96,
      "outputs": []
    },
    {
      "cell_type": "code",
      "metadata": {
        "id": "RYnZ9-cy9pBI"
      },
      "source": [
        "def stemming(content):\n",
        "    stemmed_content = re.sub('[^a-zA-Z]',' ',content)\n",
        "    stemmed_content = stemmed_content.lower()\n",
        "    stemmed_content = stemmed_content.split()\n",
        "    stemmed_content = [port_stem.stem(word) for word in stemmed_content if not word in stopwords.words('english')]\n",
        "    stemmed_content = ' '.join(stemmed_content)\n",
        "    return stemmed_content\n",
        "    news_dataset['content'] = news_dataset['content'].apply(stemming)\n",
        "    print(news_dataset['content'])"
      ],
      "execution_count": 97,
      "outputs": []
    },
    {
      "cell_type": "code",
      "source": [
        "#separating the data and label\n",
        "X = news_dataset['content'].values\n",
        "Y = news_dataset['label'].values"
      ],
      "metadata": {
        "id": "esPYrg8DOr5i"
      },
      "execution_count": 98,
      "outputs": []
    },
    {
      "cell_type": "code",
      "source": [
        "# converting the textual data to numerical data\n",
        "vectorizer = TfidfVectorizer()\n",
        "vectorizer.fit(X)\n",
        "X = vectorizer.transform(X)"
      ],
      "metadata": {
        "id": "8npHqmtQOun0"
      },
      "execution_count": 99,
      "outputs": []
    },
    {
      "cell_type": "code",
      "source": [
        "#Splitting the dataset to training & test data\n",
        "X_train, X_test, Y_train, Y_test = train_test_split(X, Y, test_size = 0.2, stratify=Y, random_state=3)"
      ],
      "metadata": {
        "id": "4R0YDW7WSnOT"
      },
      "execution_count": 100,
      "outputs": []
    },
    {
      "cell_type": "markdown",
      "source": [
        "**3.Training the Model: Logistic Regression**"
      ],
      "metadata": {
        "id": "YI-ve-6_Uhlr"
      }
    },
    {
      "cell_type": "code",
      "source": [
        "model = LogisticRegression()\n",
        "model.fit(X_train, Y_train)"
      ],
      "metadata": {
        "id": "XovVnpolU8Ve",
        "outputId": "de22a724-5fb9-426e-c88d-08a74a98912d",
        "colab": {
          "base_uri": "https://localhost:8080/"
        }
      },
      "execution_count": 101,
      "outputs": [
        {
          "output_type": "execute_result",
          "data": {
            "text/plain": [
              "LogisticRegression()"
            ]
          },
          "metadata": {},
          "execution_count": 101
        }
      ]
    },
    {
      "cell_type": "code",
      "source": [
        "# accuracy score on the training data\n",
        "X_train_prediction = model.predict(X_train)\n",
        "training_data_accuracy = accuracy_score(X_train_prediction, Y_train)\n",
        "print('Accuracy score of the training data : ', training_data_accuracy)"
      ],
      "metadata": {
        "id": "-1MTwM4EVqT8",
        "outputId": "cd123864-f709-48cc-fa5f-6ad9c094c3f5",
        "colab": {
          "base_uri": "https://localhost:8080/"
        }
      },
      "execution_count": 102,
      "outputs": [
        {
          "output_type": "stream",
          "name": "stdout",
          "text": [
            "Accuracy score of the training data :  0.9859975961538462\n"
          ]
        }
      ]
    },
    {
      "cell_type": "code",
      "source": [
        "# accuracy score on the test data\n",
        "X_test_prediction = model.predict(X_test)\n",
        "test_data_accuracy = accuracy_score(X_test_prediction, Y_test)\n",
        "print('Accuracy score of the test data : ', test_data_accuracy)"
      ],
      "metadata": {
        "id": "0nUDrWsmpKTY",
        "outputId": "37adbf70-3675-42d9-8b61-677ea8c5e9cd",
        "colab": {
          "base_uri": "https://localhost:8080/"
        }
      },
      "execution_count": 105,
      "outputs": [
        {
          "output_type": "stream",
          "name": "stdout",
          "text": [
            "Accuracy score of the test data :  0.9745192307692307\n"
          ]
        }
      ]
    },
    {
      "cell_type": "code",
      "source": [
        "gauge = pygal.Gauge()\n",
        "gauge.title = 'Accuracy of training data & test data'     \n",
        "gauge.range = [0.000, 1.000]\n",
        "gauge.add('training_data', training_data_accuracy)\n",
        "gauge.add('test_data', test_data_accuracy)  \n",
        "gauge"
      ],
      "metadata": {
        "id": "_UzQI5xXuSPB",
        "outputId": "80434181-cc81-42c2-e135-93517b6f3579",
        "colab": {
          "base_uri": "https://localhost:8080/",
          "height": 1000
        }
      },
      "execution_count": 137,
      "outputs": [
        {
          "output_type": "error",
          "ename": "ModuleNotFoundError",
          "evalue": "ignored",
          "traceback": [
            "\u001b[0;31m---------------------------------------------------------------------------\u001b[0m",
            "\u001b[0;31mModuleNotFoundError\u001b[0m                       Traceback (most recent call last)",
            "\u001b[0;32m/usr/local/lib/python3.8/dist-packages/IPython/core/formatters.py\u001b[0m in \u001b[0;36m__call__\u001b[0;34m(self, obj)\u001b[0m\n\u001b[1;32m    343\u001b[0m             \u001b[0mmethod\u001b[0m \u001b[0;34m=\u001b[0m \u001b[0mget_real_method\u001b[0m\u001b[0;34m(\u001b[0m\u001b[0mobj\u001b[0m\u001b[0;34m,\u001b[0m \u001b[0mself\u001b[0m\u001b[0;34m.\u001b[0m\u001b[0mprint_method\u001b[0m\u001b[0;34m)\u001b[0m\u001b[0;34m\u001b[0m\u001b[0;34m\u001b[0m\u001b[0m\n\u001b[1;32m    344\u001b[0m             \u001b[0;32mif\u001b[0m \u001b[0mmethod\u001b[0m \u001b[0;32mis\u001b[0m \u001b[0;32mnot\u001b[0m \u001b[0;32mNone\u001b[0m\u001b[0;34m:\u001b[0m\u001b[0;34m\u001b[0m\u001b[0;34m\u001b[0m\u001b[0m\n\u001b[0;32m--> 345\u001b[0;31m                 \u001b[0;32mreturn\u001b[0m \u001b[0mmethod\u001b[0m\u001b[0;34m(\u001b[0m\u001b[0;34m)\u001b[0m\u001b[0;34m\u001b[0m\u001b[0;34m\u001b[0m\u001b[0m\n\u001b[0m\u001b[1;32m    346\u001b[0m             \u001b[0;32mreturn\u001b[0m \u001b[0;32mNone\u001b[0m\u001b[0;34m\u001b[0m\u001b[0;34m\u001b[0m\u001b[0m\n\u001b[1;32m    347\u001b[0m         \u001b[0;32melse\u001b[0m\u001b[0;34m:\u001b[0m\u001b[0;34m\u001b[0m\u001b[0;34m\u001b[0m\u001b[0m\n",
            "\u001b[0;32m/usr/local/lib/python3.8/dist-packages/pygal/graph/base.py\u001b[0m in \u001b[0;36m_repr_png_\u001b[0;34m(self)\u001b[0m\n\u001b[1;32m    233\u001b[0m     \u001b[0;32mdef\u001b[0m \u001b[0m_repr_png_\u001b[0m\u001b[0;34m(\u001b[0m\u001b[0mself\u001b[0m\u001b[0;34m)\u001b[0m\u001b[0;34m:\u001b[0m\u001b[0;34m\u001b[0m\u001b[0;34m\u001b[0m\u001b[0m\n\u001b[1;32m    234\u001b[0m         \u001b[0;34m\"\"\"Display png in IPython notebook\"\"\"\u001b[0m\u001b[0;34m\u001b[0m\u001b[0;34m\u001b[0m\u001b[0m\n\u001b[0;32m--> 235\u001b[0;31m         \u001b[0;32mreturn\u001b[0m \u001b[0mself\u001b[0m\u001b[0;34m.\u001b[0m\u001b[0mrender_to_png\u001b[0m\u001b[0;34m(\u001b[0m\u001b[0;34m)\u001b[0m\u001b[0;34m\u001b[0m\u001b[0;34m\u001b[0m\u001b[0m\n\u001b[0m",
            "\u001b[0;32m/usr/local/lib/python3.8/dist-packages/pygal/graph/public.py\u001b[0m in \u001b[0;36mrender_to_png\u001b[0;34m(self, filename, dpi, **kwargs)\u001b[0m\n\u001b[1;32m    116\u001b[0m     \u001b[0;32mdef\u001b[0m \u001b[0mrender_to_png\u001b[0m\u001b[0;34m(\u001b[0m\u001b[0mself\u001b[0m\u001b[0;34m,\u001b[0m \u001b[0mfilename\u001b[0m\u001b[0;34m=\u001b[0m\u001b[0;32mNone\u001b[0m\u001b[0;34m,\u001b[0m \u001b[0mdpi\u001b[0m\u001b[0;34m=\u001b[0m\u001b[0;36m72\u001b[0m\u001b[0;34m,\u001b[0m \u001b[0;34m**\u001b[0m\u001b[0mkwargs\u001b[0m\u001b[0;34m)\u001b[0m\u001b[0;34m:\u001b[0m\u001b[0;34m\u001b[0m\u001b[0;34m\u001b[0m\u001b[0m\n\u001b[1;32m    117\u001b[0m         \u001b[0;34m\"\"\"Render the graph, convert it to png and write it to filename\"\"\"\u001b[0m\u001b[0;34m\u001b[0m\u001b[0;34m\u001b[0m\u001b[0m\n\u001b[0;32m--> 118\u001b[0;31m         \u001b[0;32mimport\u001b[0m \u001b[0mcairosvg\u001b[0m\u001b[0;34m\u001b[0m\u001b[0;34m\u001b[0m\u001b[0m\n\u001b[0m\u001b[1;32m    119\u001b[0m         return cairosvg.svg2png(\n\u001b[1;32m    120\u001b[0m             \u001b[0mbytestring\u001b[0m\u001b[0;34m=\u001b[0m\u001b[0mself\u001b[0m\u001b[0;34m.\u001b[0m\u001b[0mrender\u001b[0m\u001b[0;34m(\u001b[0m\u001b[0;34m**\u001b[0m\u001b[0mkwargs\u001b[0m\u001b[0;34m)\u001b[0m\u001b[0;34m,\u001b[0m \u001b[0mwrite_to\u001b[0m\u001b[0;34m=\u001b[0m\u001b[0mfilename\u001b[0m\u001b[0;34m,\u001b[0m \u001b[0mdpi\u001b[0m\u001b[0;34m=\u001b[0m\u001b[0mdpi\u001b[0m\u001b[0;34m\u001b[0m\u001b[0;34m\u001b[0m\u001b[0m\n",
            "\u001b[0;31mModuleNotFoundError\u001b[0m: No module named 'cairosvg'"
          ]
        },
        {
          "output_type": "execute_result",
          "data": {
            "text/plain": [
              "<pygal.graph.gauge.Gauge at 0x7fb0e7ab78b0>"
            ],
            "image/svg+xml": "<svg xmlns=\"http://www.w3.org/2000/svg\" xmlns:xlink=\"http://www.w3.org/1999/xlink\" id=\"chart-3dc14937-9216-4c97-a1fa-e64f827f8d0d\" class=\"pygal-chart\" viewBox=\"0 0 800 600\"><!--Generated with pygal 3.0.0 (lxml) ©Kozea 2012-2016 on 2022-12-26--><!--http://pygal.org--><!--http://github.com/Kozea/pygal--><defs><style type=\"text/css\">#chart-3dc14937-9216-4c97-a1fa-e64f827f8d0d{-webkit-user-select:none;-webkit-font-smoothing:antialiased;font-family:Consolas,\"Liberation Mono\",Menlo,Courier,monospace}#chart-3dc14937-9216-4c97-a1fa-e64f827f8d0d .title{font-family:Consolas,\"Liberation Mono\",Menlo,Courier,monospace;font-size:16px}#chart-3dc14937-9216-4c97-a1fa-e64f827f8d0d .legends .legend text{font-family:Consolas,\"Liberation Mono\",Menlo,Courier,monospace;font-size:14px}#chart-3dc14937-9216-4c97-a1fa-e64f827f8d0d .axis text{font-family:Consolas,\"Liberation Mono\",Menlo,Courier,monospace;font-size:10px}#chart-3dc14937-9216-4c97-a1fa-e64f827f8d0d .axis text.major{font-family:Consolas,\"Liberation Mono\",Menlo,Courier,monospace;font-size:10px}#chart-3dc14937-9216-4c97-a1fa-e64f827f8d0d .text-overlay text.value{font-family:Consolas,\"Liberation Mono\",Menlo,Courier,monospace;font-size:16px}#chart-3dc14937-9216-4c97-a1fa-e64f827f8d0d .text-overlay text.label{font-family:Consolas,\"Liberation Mono\",Menlo,Courier,monospace;font-size:10px}#chart-3dc14937-9216-4c97-a1fa-e64f827f8d0d .tooltip{font-family:Consolas,\"Liberation Mono\",Menlo,Courier,monospace;font-size:14px}#chart-3dc14937-9216-4c97-a1fa-e64f827f8d0d text.no_data{font-family:Consolas,\"Liberation Mono\",Menlo,Courier,monospace;font-size:64px}\n#chart-3dc14937-9216-4c97-a1fa-e64f827f8d0d{background-color:rgba(249,249,249,1)}#chart-3dc14937-9216-4c97-a1fa-e64f827f8d0d path,#chart-3dc14937-9216-4c97-a1fa-e64f827f8d0d line,#chart-3dc14937-9216-4c97-a1fa-e64f827f8d0d rect,#chart-3dc14937-9216-4c97-a1fa-e64f827f8d0d circle{-webkit-transition:150ms;-moz-transition:150ms;transition:150ms}#chart-3dc14937-9216-4c97-a1fa-e64f827f8d0d .graph &gt; .background{fill:rgba(249,249,249,1)}#chart-3dc14937-9216-4c97-a1fa-e64f827f8d0d .plot &gt; .background{fill:rgba(255,255,255,1)}#chart-3dc14937-9216-4c97-a1fa-e64f827f8d0d .graph{fill:rgba(0,0,0,.87)}#chart-3dc14937-9216-4c97-a1fa-e64f827f8d0d text.no_data{fill:rgba(0,0,0,1)}#chart-3dc14937-9216-4c97-a1fa-e64f827f8d0d .title{fill:rgba(0,0,0,1)}#chart-3dc14937-9216-4c97-a1fa-e64f827f8d0d .legends .legend text{fill:rgba(0,0,0,.87)}#chart-3dc14937-9216-4c97-a1fa-e64f827f8d0d .legends .legend:hover text{fill:rgba(0,0,0,1)}#chart-3dc14937-9216-4c97-a1fa-e64f827f8d0d .axis .line{stroke:rgba(0,0,0,1)}#chart-3dc14937-9216-4c97-a1fa-e64f827f8d0d .axis .guide.line{stroke:rgba(0,0,0,.54)}#chart-3dc14937-9216-4c97-a1fa-e64f827f8d0d .axis .major.line{stroke:rgba(0,0,0,.87)}#chart-3dc14937-9216-4c97-a1fa-e64f827f8d0d .axis text.major{fill:rgba(0,0,0,1)}#chart-3dc14937-9216-4c97-a1fa-e64f827f8d0d .axis.y .guides:hover .guide.line,#chart-3dc14937-9216-4c97-a1fa-e64f827f8d0d .line-graph .axis.x .guides:hover .guide.line,#chart-3dc14937-9216-4c97-a1fa-e64f827f8d0d .stackedline-graph .axis.x .guides:hover .guide.line,#chart-3dc14937-9216-4c97-a1fa-e64f827f8d0d .xy-graph .axis.x .guides:hover .guide.line{stroke:rgba(0,0,0,1)}#chart-3dc14937-9216-4c97-a1fa-e64f827f8d0d .axis .guides:hover text{fill:rgba(0,0,0,1)}#chart-3dc14937-9216-4c97-a1fa-e64f827f8d0d .reactive{fill-opacity:.7;stroke-opacity:.8;stroke-width:1}#chart-3dc14937-9216-4c97-a1fa-e64f827f8d0d .ci{stroke:rgba(0,0,0,.87)}#chart-3dc14937-9216-4c97-a1fa-e64f827f8d0d .reactive.active,#chart-3dc14937-9216-4c97-a1fa-e64f827f8d0d .active .reactive{fill-opacity:.8;stroke-opacity:.9;stroke-width:4}#chart-3dc14937-9216-4c97-a1fa-e64f827f8d0d .ci .reactive.active{stroke-width:1.5}#chart-3dc14937-9216-4c97-a1fa-e64f827f8d0d .series text{fill:rgba(0,0,0,1)}#chart-3dc14937-9216-4c97-a1fa-e64f827f8d0d .tooltip rect{fill:rgba(255,255,255,1);stroke:rgba(0,0,0,1);-webkit-transition:opacity 150ms;-moz-transition:opacity 150ms;transition:opacity 150ms}#chart-3dc14937-9216-4c97-a1fa-e64f827f8d0d .tooltip .label{fill:rgba(0,0,0,.87)}#chart-3dc14937-9216-4c97-a1fa-e64f827f8d0d .tooltip .label{fill:rgba(0,0,0,.87)}#chart-3dc14937-9216-4c97-a1fa-e64f827f8d0d .tooltip .legend{font-size:.8em;fill:rgba(0,0,0,.54)}#chart-3dc14937-9216-4c97-a1fa-e64f827f8d0d .tooltip .x_label{font-size:.6em;fill:rgba(0,0,0,1)}#chart-3dc14937-9216-4c97-a1fa-e64f827f8d0d .tooltip .xlink{font-size:.5em;text-decoration:underline}#chart-3dc14937-9216-4c97-a1fa-e64f827f8d0d .tooltip .value{font-size:1.5em}#chart-3dc14937-9216-4c97-a1fa-e64f827f8d0d .bound{font-size:.5em}#chart-3dc14937-9216-4c97-a1fa-e64f827f8d0d .max-value{font-size:.75em;fill:rgba(0,0,0,.54)}#chart-3dc14937-9216-4c97-a1fa-e64f827f8d0d .map-element{fill:rgba(255,255,255,1);stroke:rgba(0,0,0,.54) !important}#chart-3dc14937-9216-4c97-a1fa-e64f827f8d0d .map-element .reactive{fill-opacity:inherit;stroke-opacity:inherit}#chart-3dc14937-9216-4c97-a1fa-e64f827f8d0d .color-0,#chart-3dc14937-9216-4c97-a1fa-e64f827f8d0d .color-0 a:visited{stroke:#F44336;fill:#F44336}#chart-3dc14937-9216-4c97-a1fa-e64f827f8d0d .color-1,#chart-3dc14937-9216-4c97-a1fa-e64f827f8d0d .color-1 a:visited{stroke:#3F51B5;fill:#3F51B5}#chart-3dc14937-9216-4c97-a1fa-e64f827f8d0d .text-overlay .color-0 text{fill:black}#chart-3dc14937-9216-4c97-a1fa-e64f827f8d0d .text-overlay .color-1 text{fill:black}\n#chart-3dc14937-9216-4c97-a1fa-e64f827f8d0d text.no_data{text-anchor:middle}#chart-3dc14937-9216-4c97-a1fa-e64f827f8d0d .guide.line{fill:none}#chart-3dc14937-9216-4c97-a1fa-e64f827f8d0d .centered{text-anchor:middle}#chart-3dc14937-9216-4c97-a1fa-e64f827f8d0d .title{text-anchor:middle}#chart-3dc14937-9216-4c97-a1fa-e64f827f8d0d .legends .legend text{fill-opacity:1}#chart-3dc14937-9216-4c97-a1fa-e64f827f8d0d .axis.x text{text-anchor:middle}#chart-3dc14937-9216-4c97-a1fa-e64f827f8d0d .axis.x:not(.web) text[transform]{text-anchor:start}#chart-3dc14937-9216-4c97-a1fa-e64f827f8d0d .axis.x:not(.web) text[transform].backwards{text-anchor:end}#chart-3dc14937-9216-4c97-a1fa-e64f827f8d0d .axis.y text{text-anchor:end}#chart-3dc14937-9216-4c97-a1fa-e64f827f8d0d .axis.y text[transform].backwards{text-anchor:start}#chart-3dc14937-9216-4c97-a1fa-e64f827f8d0d .axis.y2 text{text-anchor:start}#chart-3dc14937-9216-4c97-a1fa-e64f827f8d0d .axis.y2 text[transform].backwards{text-anchor:end}#chart-3dc14937-9216-4c97-a1fa-e64f827f8d0d .axis .guide.line{stroke-dasharray:4,4;stroke:black}#chart-3dc14937-9216-4c97-a1fa-e64f827f8d0d .axis .major.guide.line{stroke-dasharray:6,6;stroke:black}#chart-3dc14937-9216-4c97-a1fa-e64f827f8d0d .horizontal .axis.y .guide.line,#chart-3dc14937-9216-4c97-a1fa-e64f827f8d0d .horizontal .axis.y2 .guide.line,#chart-3dc14937-9216-4c97-a1fa-e64f827f8d0d .vertical .axis.x .guide.line{opacity:0}#chart-3dc14937-9216-4c97-a1fa-e64f827f8d0d .horizontal .axis.always_show .guide.line,#chart-3dc14937-9216-4c97-a1fa-e64f827f8d0d .vertical .axis.always_show .guide.line{opacity:1 !important}#chart-3dc14937-9216-4c97-a1fa-e64f827f8d0d .axis.y .guides:hover .guide.line,#chart-3dc14937-9216-4c97-a1fa-e64f827f8d0d .axis.y2 .guides:hover .guide.line,#chart-3dc14937-9216-4c97-a1fa-e64f827f8d0d .axis.x .guides:hover .guide.line{opacity:1}#chart-3dc14937-9216-4c97-a1fa-e64f827f8d0d .axis .guides:hover text{opacity:1}#chart-3dc14937-9216-4c97-a1fa-e64f827f8d0d .nofill{fill:none}#chart-3dc14937-9216-4c97-a1fa-e64f827f8d0d .subtle-fill{fill-opacity:.2}#chart-3dc14937-9216-4c97-a1fa-e64f827f8d0d .dot{stroke-width:1px;fill-opacity:1;stroke-opacity:1}#chart-3dc14937-9216-4c97-a1fa-e64f827f8d0d .dot.active{stroke-width:5px}#chart-3dc14937-9216-4c97-a1fa-e64f827f8d0d .dot.negative{fill:transparent}#chart-3dc14937-9216-4c97-a1fa-e64f827f8d0d text,#chart-3dc14937-9216-4c97-a1fa-e64f827f8d0d tspan{stroke:none !important}#chart-3dc14937-9216-4c97-a1fa-e64f827f8d0d .series text.active{opacity:1}#chart-3dc14937-9216-4c97-a1fa-e64f827f8d0d .tooltip rect{fill-opacity:.95;stroke-width:.5}#chart-3dc14937-9216-4c97-a1fa-e64f827f8d0d .tooltip text{fill-opacity:1}#chart-3dc14937-9216-4c97-a1fa-e64f827f8d0d .showable{visibility:hidden}#chart-3dc14937-9216-4c97-a1fa-e64f827f8d0d .showable.shown{visibility:visible}#chart-3dc14937-9216-4c97-a1fa-e64f827f8d0d .gauge-background{fill:rgba(229,229,229,1);stroke:none}#chart-3dc14937-9216-4c97-a1fa-e64f827f8d0d .bg-lines{stroke:rgba(249,249,249,1);stroke-width:2px}</style><script type=\"text/javascript\">window.pygal = window.pygal || {};window.pygal.config = window.pygal.config || {};window.pygal.config['3dc14937-9216-4c97-a1fa-e64f827f8d0d'] = {\"allow_interruptions\": false, \"box_mode\": \"extremes\", \"classes\": [\"pygal-chart\"], \"css\": [\"file://style.css\", \"file://graph.css\"], \"defs\": [], \"disable_xml_declaration\": true, \"dots_size\": 2.5, \"dynamic_print_values\": false, \"explicit_size\": false, \"fill\": false, \"force_uri_protocol\": \"https\", \"formatter\": null, \"half_pie\": false, \"height\": 600, \"include_x_axis\": false, \"inner_radius\": 0, \"interpolate\": null, \"interpolation_parameters\": {}, \"interpolation_precision\": 250, \"inverse_y_axis\": false, \"js\": [\"//kozea.github.io/pygal.js/2.0.x/pygal-tooltips.min.js\"], \"legend_at_bottom\": false, \"legend_at_bottom_columns\": null, \"legend_box_size\": 12, \"logarithmic\": false, \"margin\": 20, \"margin_bottom\": null, \"margin_left\": null, \"margin_right\": null, \"margin_top\": null, \"max_scale\": 16, \"min_scale\": 4, \"missing_value_fill_truncation\": \"x\", \"no_data_text\": \"No data\", \"no_prefix\": false, \"order_min\": null, \"pretty_print\": false, \"print_labels\": false, \"print_values\": false, \"print_values_position\": \"center\", \"print_zeroes\": true, \"range\": [0.0, 1.0], \"rounded_bars\": null, \"secondary_range\": null, \"show_dots\": true, \"show_legend\": true, \"show_minor_x_labels\": true, \"show_minor_y_labels\": true, \"show_only_major_dots\": false, \"show_x_guides\": false, \"show_x_labels\": true, \"show_y_guides\": true, \"show_y_labels\": true, \"spacing\": 10, \"stack_from_top\": false, \"strict\": false, \"stroke\": true, \"stroke_style\": null, \"style\": {\"background\": \"rgba(249, 249, 249, 1)\", \"ci_colors\": [], \"colors\": [\"#F44336\", \"#3F51B5\", \"#009688\", \"#FFC107\", \"#FF5722\", \"#9C27B0\", \"#03A9F4\", \"#8BC34A\", \"#FF9800\", \"#E91E63\", \"#2196F3\", \"#4CAF50\", \"#FFEB3B\", \"#673AB7\", \"#00BCD4\", \"#CDDC39\", \"#9E9E9E\", \"#607D8B\"], \"dot_opacity\": \"1\", \"font_family\": \"Consolas, \\\"Liberation Mono\\\", Menlo, Courier, monospace\", \"foreground\": \"rgba(0, 0, 0, .87)\", \"foreground_strong\": \"rgba(0, 0, 0, 1)\", \"foreground_subtle\": \"rgba(0, 0, 0, .54)\", \"guide_stroke_color\": \"black\", \"guide_stroke_dasharray\": \"4,4\", \"label_font_family\": \"Consolas, \\\"Liberation Mono\\\", Menlo, Courier, monospace\", \"label_font_size\": 10, \"legend_font_family\": \"Consolas, \\\"Liberation Mono\\\", Menlo, Courier, monospace\", \"legend_font_size\": 14, \"major_guide_stroke_color\": \"black\", \"major_guide_stroke_dasharray\": \"6,6\", \"major_label_font_family\": \"Consolas, \\\"Liberation Mono\\\", Menlo, Courier, monospace\", \"major_label_font_size\": 10, \"no_data_font_family\": \"Consolas, \\\"Liberation Mono\\\", Menlo, Courier, monospace\", \"no_data_font_size\": 64, \"opacity\": \".7\", \"opacity_hover\": \".8\", \"plot_background\": \"rgba(255, 255, 255, 1)\", \"stroke_opacity\": \".8\", \"stroke_opacity_hover\": \".9\", \"stroke_width\": \"1\", \"stroke_width_hover\": \"4\", \"title_font_family\": \"Consolas, \\\"Liberation Mono\\\", Menlo, Courier, monospace\", \"title_font_size\": 16, \"tooltip_font_family\": \"Consolas, \\\"Liberation Mono\\\", Menlo, Courier, monospace\", \"tooltip_font_size\": 14, \"transition\": \"150ms\", \"value_background\": \"rgba(229, 229, 229, 1)\", \"value_colors\": [], \"value_font_family\": \"Consolas, \\\"Liberation Mono\\\", Menlo, Courier, monospace\", \"value_font_size\": 16, \"value_label_font_family\": \"Consolas, \\\"Liberation Mono\\\", Menlo, Courier, monospace\", \"value_label_font_size\": 10}, \"title\": \"Accuracy of training data &amp; test data\", \"tooltip_border_radius\": 0, \"tooltip_fancy_mode\": true, \"truncate_label\": null, \"truncate_legend\": null, \"width\": 800, \"x_label_rotation\": 0, \"x_labels\": null, \"x_labels_major\": null, \"x_labels_major_count\": null, \"x_labels_major_every\": null, \"x_title\": null, \"xrange\": null, \"y_label_rotation\": 0, \"y_labels\": null, \"y_labels_major\": null, \"y_labels_major_count\": null, \"y_labels_major_every\": null, \"y_title\": null, \"zero\": 0, \"legends\": [\"training_data\", \"test_data\"]}</script><script type=\"text/javascript\" xlink:href=\"https://kozea.github.io/pygal.js/2.0.x/pygal-tooltips.min.js\"/></defs><title>Accuracy of training data &amp; test data</title><g class=\"graph gauge-graph vertical\"><rect x=\"0\" y=\"0\" width=\"800\" height=\"600\" class=\"background\"/><g transform=\"translate(179, 46)\" class=\"plot\"><rect x=\"0\" y=\"0\" width=\"600.8\" height=\"534\" class=\"background\"/><g class=\"axis x gauge\"><g class=\"guides\"><path d=\"M437.601923 478.218600 L444.823077 489.335368 Z\" class=\"line\"/><path d=\"M300.400000 267.000000 L437.601923 478.218600 Z\" class=\"guide line major\"/><text x=\"430.3807692307692\" y=\"467.1018312782698\">0</text><title>0</title></g><g class=\"guides\"><path d=\"M538.040702 388.947115 L550.548107 395.365385 Z\" class=\"line\"/><path d=\"M300.400000 267.000000 L538.040702 388.947115 Z\" class=\"guide line \"/><text x=\"525.5332963145778\" y=\"382.5288461538461\">0.1</text><title>0.1</title></g><g class=\"guides\"><path d=\"M574.803846 267.000000 L589.246154 267.000000 Z\" class=\"line\"/><path d=\"M300.400000 267.000000 L574.803846 267.000000 Z\" class=\"guide line \"/><text x=\"560.3615384615384\" y=\"267.00000000000006\">0.2</text><title>0.2</title></g><g class=\"guides\"><path d=\"M538.040702 145.052885 L550.548107 138.634615 Z\" class=\"line\"/><path d=\"M300.400000 267.000000 L538.040702 145.052885 Z\" class=\"guide line \"/><text x=\"525.5332963145777\" y=\"151.47115384615387\">0.3</text><title>0.3</title></g><g class=\"guides\"><path d=\"M437.601923 55.781400 L444.823077 44.664632 Z\" class=\"line\"/><path d=\"M300.400000 267.000000 L437.601923 55.781400 Z\" class=\"guide line \"/><text x=\"430.3807692307691\" y=\"66.89816872173014\">0.4</text><title>0.4</title></g><g class=\"guides\"><path d=\"M300.400000 23.105769 L300.400000 10.269231 Z\" class=\"line\"/><path d=\"M300.400000 267.000000 L300.400000 23.105769 Z\" class=\"guide line \"/><text x=\"300.40000000000003\" y=\"35.94230769230768\">0.5</text><title>0.5</title></g><g class=\"guides\"><path d=\"M163.198077 55.781400 L155.976923 44.664632 Z\" class=\"line\"/><path d=\"M300.400000 267.000000 L163.198077 55.781400 Z\" class=\"guide line \"/><text x=\"170.41923076923055\" y=\"66.89816872173026\">0.6</text><title>0.6</title></g><g class=\"guides\"><path d=\"M62.759298 145.052885 L50.251893 138.634615 Z\" class=\"line\"/><path d=\"M300.400000 267.000000 L62.759298 145.052885 Z\" class=\"guide line \"/><text x=\"75.26670368542221\" y=\"151.47115384615392\">0.7</text><title>0.7</title></g><g class=\"guides\"><path d=\"M25.996154 267.000000 L11.553846 267.000000 Z\" class=\"line\"/><path d=\"M300.400000 267.000000 L25.996154 267.000000 Z\" class=\"guide line \"/><text x=\"40.43846153846153\" y=\"266.99999999999994\">0.8</text><title>0.8</title></g><g class=\"guides\"><path d=\"M62.759298 388.947115 L50.251893 395.365385 Z\" class=\"line\"/><path d=\"M300.400000 267.000000 L62.759298 388.947115 Z\" class=\"guide line \"/><text x=\"75.26670368542216\" y=\"382.52884615384596\">0.9</text><title>0.9</title></g><g class=\"guides\"><path d=\"M163.198077 478.218600 L155.976923 489.335368 Z\" class=\"line\"/><path d=\"M300.400000 267.000000 L163.198077 478.218600 Z\" class=\"guide line major\"/><text x=\"170.4192307692308\" y=\"467.10183127826986\">1</text><title>1</title></g></g><g class=\"axis y gauge\"><circle cx=\"300.4\" cy=\"267.0\" r=\"4\"/></g><g class=\"series serie-0 color-0\"><g class=\"dots\"><path d=\"M 162.395166 447.484933 L 302.345195 254.280426 A 0.050000 0.050000 1 0 1 312.989867 260.710386 Z\" class=\"line reactive tooltip-trigger\"/><desc class=\"value\">0.9859975962</desc><desc class=\"x top\">178.63102845584413</desc><desc class=\"y top\">426.25141181076265</desc></g></g><g class=\"series serie-1 color-1\"><g class=\"dots\"><path d=\"M 150.447507 439.791523 L 303.201248 254.407238 A 0.050000 0.050000 1 0 1 313.392176 261.393867 Z\" class=\"line reactive tooltip-trigger\"/><desc class=\"value\">0.9745192308</desc><desc class=\"x top\">168.08897715518836</desc><desc class=\"y top\">419.46310865239525</desc></g></g></g><g class=\"titles\"><text x=\"400.0\" y=\"26\" class=\"title plot_title\">Accuracy of training data &amp; test data</text></g><g transform=\"translate(179, 46)\" class=\"plot overlay\"><g class=\"series serie-0 color-0\"/><g class=\"series serie-1 color-1\"/></g><g transform=\"translate(179, 46)\" class=\"plot text-overlay\"><g class=\"series serie-0 color-0\"/><g class=\"series serie-1 color-1\"/></g><g transform=\"translate(179, 46)\" class=\"plot tooltip-overlay\"><g transform=\"translate(0 0)\" style=\"opacity: 0\" class=\"tooltip\"><rect rx=\"0\" ry=\"0\" width=\"0\" height=\"0\" class=\"tooltip-box\"/><g class=\"text\"/></g></g><g transform=\"translate(10, 56)\" class=\"legends\"><g id=\"activate-serie-0\" class=\"legend reactive activate-serie\"><rect x=\"0.0\" y=\"1.0\" width=\"12\" height=\"12\" class=\"color-0 reactive\"/><text x=\"17.0\" y=\"11.2\">training_data</text></g><g id=\"activate-serie-1\" class=\"legend reactive activate-serie\"><rect x=\"0.0\" y=\"22.0\" width=\"12\" height=\"12\" class=\"color-1 reactive\"/><text x=\"17.0\" y=\"32.2\">test_data</text></g></g><g transform=\"translate(790, 56)\" class=\"legends\"/></g></svg>"
          },
          "metadata": {},
          "execution_count": 137
        }
      ]
    },
    {
      "cell_type": "markdown",
      "source": [
        "\n",
        "**4.Making a Predictive System**\n",
        "\n"
      ],
      "metadata": {
        "id": "BbZ2Yru67Pjp"
      }
    },
    {
      "cell_type": "code",
      "source": [
        "X_new = X_test[1000]\n",
        "\n",
        "prediction = model.predict(X_new)\n",
        "print(prediction)\n",
        "\n",
        "if (prediction[0]==0):\n",
        "  print('The news is Real')\n",
        "else:\n",
        "  print('The news is Fake')"
      ],
      "metadata": {
        "id": "9Cmg5_SzkcMV",
        "outputId": "ee4a6b02-8ab0-4863-f887-24600b894730",
        "colab": {
          "base_uri": "https://localhost:8080/"
        }
      },
      "execution_count": 141,
      "outputs": [
        {
          "output_type": "stream",
          "name": "stdout",
          "text": [
            "[1]\n",
            "The news is Fake\n"
          ]
        }
      ]
    },
    {
      "cell_type": "code",
      "source": [
        "Fake = news_dataset.loc[news_dataset['label'] == 1].count()[0]\n",
        "Real = news_dataset.loc[news_dataset['label'] == 0].count()[0]\n",
        "plt.figure(figsize=(8,5), dpi = 75)\n",
        "plt.pie([Fake, Real], labels = ['Fake', 'Real'], autopct = \"% .2f %%\", colors = \n",
        "['blue', 'red'])\n",
        "plt.title('Labels befor applying the model')\n",
        "plt.legend()\n",
        "plt.show()"
      ],
      "metadata": {
        "id": "OthAXxvZq0Ia",
        "outputId": "263e8750-9185-4fb5-d321-e7e984cc0d83",
        "colab": {
          "base_uri": "https://localhost:8080/",
          "height": 331
        }
      },
      "execution_count": 117,
      "outputs": [
        {
          "output_type": "display_data",
          "data": {
            "text/plain": [
              "<Figure size 600x375 with 1 Axes>"
            ],
            "image/png": "[encoded data removed]"
          },
          "metadata": {}
        }
      ]
    },
    {
      "cell_type": "code",
      "source": [
        "Fake = 1996+81\n",
        "Real = 17+2066\n",
        "plt.figure(figsize=(8,5), dpi = 75)\n",
        "plt.pie([Fake, Real], labels = ['Fake', 'Real'], autopct = \"% .2f %%\", colors = \n",
        "['purple', 'green'])\n",
        "plt.title('Labels after applying the model')\n",
        "plt.legend()\n",
        "plt.show()"
      ],
      "metadata": {
        "id": "Z9e3ehFBspq6",
        "outputId": "614dfae0-0a38-4614-8cbf-9faab8d872eb",
        "colab": {
          "base_uri": "https://localhost:8080/",
          "height": 331
        }
      },
      "execution_count": 132,
      "outputs": [
        {
          "output_type": "display_data",
          "data": {
            "text/plain": [
              "<Figure size 600x375 with 1 Axes>"
            ],
            "image/png": "[encoded data removed]"
          },
          "metadata": {}
        }
      ]
    },
    {
      "cell_type": "markdown",
      "source": [
        "**5.Confuaion Matrix** "
      ],
      "metadata": {
        "id": "2GTnVb7nkmTT"
      }
    },
    {
      "cell_type": "code",
      "source": [
        "cf_matrix = confusion_matrix(Y_test, X_test_prediction)\n",
        "print(cf_matrix)\n",
        "sns.heatmap(cf_matrix, annot=True)\n"
      ],
      "metadata": {
        "id": "Efh2Awtbk09d",
        "outputId": "5cac770c-5f61-4600-888f-3d4acf945502",
        "colab": {
          "base_uri": "https://localhost:8080/",
          "height": 320
        }
      },
      "execution_count": 104,
      "outputs": [
        {
          "output_type": "stream",
          "name": "stdout",
          "text": [
            "[[1996   81]\n",
            " [  17 2066]]\n"
          ]
        },
        {
          "output_type": "execute_result",
          "data": {
            "text/plain": [
              "<matplotlib.axes._subplots.AxesSubplot at 0x7fb0edf46610>"
            ]
          },
          "metadata": {},
          "execution_count": 104
        },
        {
          "output_type": "display_data",
          "data": {
            "text/plain": [
              "<Figure size 432x288 with 2 Axes>"
            ],
            "image/png": "[encoded data removed]"
          },
          "metadata": {
            "needs_background": "light"
          }
        }
      ]
    }
  ]
}